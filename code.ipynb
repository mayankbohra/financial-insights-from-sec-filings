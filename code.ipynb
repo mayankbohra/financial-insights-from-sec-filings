{
 "cells": [
  {
   "cell_type": "code",
   "execution_count": 23,
   "metadata": {},
   "outputs": [],
   "source": [
    "import re\n",
    "import pandas as pd\n",
    "import requests as re\n",
    "from bs4 import BeautifulSoup"
   ]
  },
  {
   "cell_type": "code",
   "execution_count": 13,
   "metadata": {},
   "outputs": [],
   "source": [
    "headers = {\"User-Agent\": \"mayankbohra.dev@gmail.com\"}"
   ]
  },
  {
   "cell_type": "code",
   "execution_count": 14,
   "metadata": {},
   "outputs": [],
   "source": [
    "def cik_matching_ticker(ticker, headers=headers):\n",
    "    ticker = ticker.upper().replace(\".\", \"-\")\n",
    "    try:\n",
    "        ticker_json = re.get(\n",
    "            \"https://www.sec.gov/files/company_tickers.json\", headers=headers\n",
    "        ).json()\n",
    "        \n",
    "        for company in ticker_json.values():\n",
    "            if company[\"ticker\"] == ticker:\n",
    "                cik = str(company[\"cik_str\"]).zfill(10)\n",
    "                return cik\n",
    "        raise ValueError(f\"Ticker {ticker} not found in SEC database\")\n",
    "    except Exception as e:\n",
    "        print(\"An error occurred:\", e)"
   ]
  },
  {
   "cell_type": "code",
   "execution_count": 15,
   "metadata": {},
   "outputs": [
    {
     "data": {
      "text/plain": [
       "'0000320193'"
      ]
     },
     "execution_count": 15,
     "metadata": {},
     "output_type": "execute_result"
    }
   ],
   "source": [
    "cik_matching_ticker(\"aapl\")"
   ]
  },
  {
   "cell_type": "code",
   "execution_count": 16,
   "metadata": {},
   "outputs": [],
   "source": [
    "def get_submission_data_for_ticker(ticker, only_filings_df=False):\n",
    "    cik = cik_matching_ticker(ticker)\n",
    "    url = f\"https://data.sec.gov/submissions/CIK{cik}.json\"\n",
    "    company_json = re.get(url, headers=headers).json()\n",
    "    if only_filings_df:\n",
    "        return pd.DataFrame(company_json['filings']['recent'])\n",
    "    return company_json"
   ]
  },
  {
   "cell_type": "code",
   "execution_count": 17,
   "metadata": {},
   "outputs": [],
   "source": [
    "def get_filtered_filings(ticker):\n",
    "    company_filings_df = get_submission_data_for_ticker(ticker, only_filings_df=True)\n",
    "    df = company_filings_df[company_filings_df['form'] == '10-K']\n",
    "    \n",
    "    df = df.set_index('reportDate')\n",
    "    accession_df = df['accessionNumber']\n",
    "    \n",
    "    return accession_df"
   ]
  },
  {
   "cell_type": "code",
   "execution_count": 19,
   "metadata": {},
   "outputs": [
    {
     "data": {
      "text/plain": [
       "reportDate\n",
       "2023-09-30    0000320193-23-000106\n",
       "2022-09-24    0000320193-22-000108\n",
       "2021-09-25    0000320193-21-000105\n",
       "2020-09-26    0000320193-20-000096\n",
       "2019-09-28    0000320193-19-000119\n",
       "2018-09-29    0000320193-18-000145\n",
       "2017-09-30    0000320193-17-000070\n",
       "2016-09-24    0001628280-16-020309\n",
       "2015-09-26    0001193125-15-356351\n",
       "2014-09-27    0001193125-14-383437\n",
       "Name: accessionNumber, dtype: object"
      ]
     },
     "execution_count": 19,
     "metadata": {},
     "output_type": "execute_result"
    }
   ],
   "source": [
    "filings = get_filtered_filings(\"aapl\")\n",
    "filings"
   ]
  },
  {
   "cell_type": "code",
   "execution_count": 22,
   "metadata": {},
   "outputs": [
    {
     "data": {
      "text/plain": [
       "'000032019323000106'"
      ]
     },
     "execution_count": 22,
     "metadata": {},
     "output_type": "execute_result"
    }
   ],
   "source": [
    "acc = get_filtered_filings(\"aapl\")\n",
    "acc_num = acc.iloc[0].replace(\"-\", \"\")\n",
    "acc_num"
   ]
  }
 ],
 "metadata": {
  "kernelspec": {
   "display_name": "Python 3",
   "language": "python",
   "name": "python3"
  },
  "language_info": {
   "codemirror_mode": {
    "name": "ipython",
    "version": 3
   },
   "file_extension": ".py",
   "mimetype": "text/x-python",
   "name": "python",
   "nbconvert_exporter": "python",
   "pygments_lexer": "ipython3",
   "version": "3.10.6"
  }
 },
 "nbformat": 4,
 "nbformat_minor": 2
}
